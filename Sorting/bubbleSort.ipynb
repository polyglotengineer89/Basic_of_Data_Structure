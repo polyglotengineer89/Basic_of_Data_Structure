{
 "cells": [
  {
   "cell_type": "code",
   "execution_count": 1,
   "metadata": {},
   "outputs": [
    {
     "data": {
      "text/plain": [
       "{1, 2, 3, 4}"
      ]
     },
     "execution_count": 1,
     "metadata": {},
     "output_type": "execute_result"
    }
   ],
   "source": [
    "a=[1,2,3,4]\n",
    "b=[2,3,4]\n",
    "\n",
    "set(a)\n"
   ]
  },
  {
   "cell_type": "code",
   "execution_count": 2,
   "metadata": {},
   "outputs": [
    {
     "data": {
      "text/plain": [
       "{2, 3, 4}"
      ]
     },
     "execution_count": 2,
     "metadata": {},
     "output_type": "execute_result"
    }
   ],
   "source": [
    "set(b)"
   ]
  },
  {
   "cell_type": "code",
   "execution_count": 3,
   "metadata": {},
   "outputs": [
    {
     "data": {
      "text/plain": [
       "{1}"
      ]
     },
     "execution_count": 3,
     "metadata": {},
     "output_type": "execute_result"
    }
   ],
   "source": [
    "set(a) - set(b)"
   ]
  },
  {
   "cell_type": "code",
   "execution_count": 4,
   "metadata": {},
   "outputs": [
    {
     "name": "stdout",
     "output_type": "stream",
     "text": [
      "1 kali\n",
      "[4, 6, 1]\n",
      "2 kali\n",
      "[4, 1, 6]\n",
      "3 kali\n",
      "[1, 4, 6]\n"
     ]
    }
   ],
   "source": [
    "import pprint\n",
    "a = [6,4,1]\n",
    "\n",
    "def swapPlace(List, a,b):\n",
    "    List[a], List[b] = List[b], List[a]\n",
    "    \n",
    "    return List\n",
    "\n",
    "cycle = 0\n",
    "i=0\n",
    "for i in range(len(a)):\n",
    "    j=0\n",
    "    for j in range(len(a)-1):\n",
    "        if a[j] > a[j+1]:\n",
    "            a= swapPlace(a, j, j+1)\n",
    "            cycle +=1\n",
    "            print(\"{} kali\".format(cycle))\n",
    "            pprint.pprint(a)"
   ]
  },
  {
   "cell_type": "code",
   "execution_count": null,
   "metadata": {},
   "outputs": [],
   "source": []
  }
 ],
 "metadata": {
  "kernelspec": {
   "display_name": "Python 3",
   "language": "python",
   "name": "python3"
  },
  "language_info": {
   "codemirror_mode": {
    "name": "ipython",
    "version": 3
   },
   "file_extension": ".py",
   "mimetype": "text/x-python",
   "name": "python",
   "nbconvert_exporter": "python",
   "pygments_lexer": "ipython3",
   "version": "3.7.3"
  }
 },
 "nbformat": 4,
 "nbformat_minor": 2
}
