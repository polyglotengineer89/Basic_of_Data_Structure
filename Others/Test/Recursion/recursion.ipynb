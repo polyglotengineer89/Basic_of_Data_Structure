{
 "cells": [
  {
   "cell_type": "code",
   "execution_count": 9,
   "metadata": {},
   "outputs": [
    {
     "name": "stdout",
     "output_type": "stream",
     "text": [
      "3\n",
      "3\n"
     ]
    }
   ],
   "source": [
    "def fibonacci(n):\n",
    "    # Write your code here.\n",
    "    if n >= 3:\n",
    "        for range(i, len(n)):\n",
    "            \n",
    "        return (n-1) + (n-2)\n",
    "    elif n == 0:\n",
    "        return 0\n",
    "    else:\n",
    "        return 1\n",
    "\n",
    "n = int(input())\n",
    "print(fibonacci(n))"
   ]
  },
  {
   "cell_type": "code",
   "execution_count": 12,
   "metadata": {},
   "outputs": [
    {
     "name": "stdout",
     "output_type": "stream",
     "text": [
      "5\n",
      "<function fibonacci.<locals>.<lambda> at 0x7fdcf81432f0>\n"
     ]
    }
   ],
   "source": [
    "from functools import reduce\n",
    "\n",
    "def fibonacci(n):\n",
    "    return  lambda n:reduce(lambda x,n:[x[1],x[0]+x[1]],range(n),[0,1])[0]\n",
    "\n",
    "\n",
    "n = int(input())\n",
    "import pprint\n",
    "pprint.pprint(fibonacci(n))"
   ]
  },
  {
   "cell_type": "code",
   "execution_count": null,
   "metadata": {},
   "outputs": [],
   "source": []
  }
 ],
 "metadata": {
  "kernelspec": {
   "display_name": "Python 3",
   "language": "python",
   "name": "python3"
  },
  "language_info": {
   "codemirror_mode": {
    "name": "ipython",
    "version": 3
   },
   "file_extension": ".py",
   "mimetype": "text/x-python",
   "name": "python",
   "nbconvert_exporter": "python",
   "pygments_lexer": "ipython3",
   "version": "3.6.9"
  }
 },
 "nbformat": 4,
 "nbformat_minor": 4
}
