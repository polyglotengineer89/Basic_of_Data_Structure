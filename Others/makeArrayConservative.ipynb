{
 "cells": [
  {
   "cell_type": "code",
   "execution_count": 10,
   "metadata": {},
   "outputs": [
    {
     "name": "stdout",
     "output_type": "stream",
     "text": [
      "[6, 2, 3, 8]\n",
      "[2, 3, 6, 8]\n",
      "2\n"
     ]
    }
   ],
   "source": [
    "import pprint\n",
    "\n",
    "def makeArrayConsecutive2(statues):\n",
    "    pprint.pprint(statues)\n",
    "    statues.sort()\n",
    "    \n",
    "    pprint.pprint(statues)\n",
    "\n",
    "    some = 0\n",
    "\n",
    "    if len(statues)-1 == 0:\n",
    "        return 0\n",
    "\n",
    "    else:\n",
    "        i=0\n",
    "\n",
    "        for i in range(len(statues)-2):\n",
    "            some += statues[i+1] - statues[i] - 1\n",
    "\n",
    "        return some\n",
    "\n",
    "a = makeArrayConsecutive2([6, 2, 3, 8])\n",
    "\n",
    "print(a)"
   ]
  },
  {
   "cell_type": "code",
   "execution_count": 11,
   "metadata": {},
   "outputs": [],
   "source": [
    "\n",
    "def makeArrayConsecutive2(statues):\n",
    "    statues.sort()\n",
    "\n",
    "    some = 0\n",
    "\n",
    "    if len(statues)-1 == 0:\n",
    "        return 0\n",
    "\n",
    "    else:\n",
    "        i=0\n",
    "\n",
    "        for i in range(len(statues)-2):\n",
    "            some += statues[i+1] -statues[i] - 1\n",
    "\n",
    "        return some\n"
   ]
  },
  {
   "cell_type": "code",
   "execution_count": 13,
   "metadata": {},
   "outputs": [
    {
     "name": "stdout",
     "output_type": "stream",
     "text": [
      "3\n"
     ]
    }
   ],
   "source": [
    "\n",
    "def makeArrayConsecutive2(statues):\n",
    "    statues.sort()\n",
    "    first_list = 0\n",
    "    second_list = 1\n",
    "\n",
    "    last_item = len(statues) - 1\n",
    "\n",
    "    difference = 0\n",
    "\n",
    "    while (first_list <= (last_item - 1)) and (second_list <= last_item):\n",
    "        if (statues[second_list] - statues[first_list]) > 1:\n",
    "            difference += statues[second_list] - statues[first_list] -1\n",
    "\n",
    "        first_list += 1\n",
    "        second_list += 1\n",
    "\n",
    "    return difference\n",
    "\n",
    "a = makeArrayConsecutive2([6, 2, 3, 8])\n",
    "\n",
    "print(a)"
   ]
  },
  {
   "cell_type": "code",
   "execution_count": null,
   "metadata": {},
   "outputs": [],
   "source": []
  }
 ],
 "metadata": {
  "kernelspec": {
   "display_name": "Python 3",
   "language": "python",
   "name": "python3"
  },
  "language_info": {
   "codemirror_mode": {
    "name": "ipython",
    "version": 3
   },
   "file_extension": ".py",
   "mimetype": "text/x-python",
   "name": "python",
   "nbconvert_exporter": "python",
   "pygments_lexer": "ipython3",
   "version": "3.7.3"
  }
 },
 "nbformat": 4,
 "nbformat_minor": 2
}
